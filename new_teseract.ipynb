{
 "cells": [
  {
   "cell_type": "code",
   "execution_count": 21,
   "metadata": {},
   "outputs": [],
   "source": [
    "import pytesseract\n",
    "import os\n",
    "from PIL import Image\n",
    "from langdetect import detect\n",
    "from langdetect import detect_langs"
   ]
  },
  {
   "cell_type": "code",
   "execution_count": 2,
   "metadata": {},
   "outputs": [
    {
     "name": "stdout",
     "output_type": "stream",
     "text": [
      "tesseract\n",
      "4.1.1\n",
      "['eng', 'eng_lstm_only', 'osd', 'rus']\n"
     ]
    }
   ],
   "source": [
    "print(pytesseract.pytesseract.tesseract_cmd)\n",
    "print(pytesseract.get_tesseract_version())\n",
    "print(pytesseract.get_languages(config=''))"
   ]
  },
  {
   "cell_type": "code",
   "execution_count": 5,
   "metadata": {},
   "outputs": [
    {
     "name": "stdout",
     "output_type": "stream",
     "text": [
      "-----------------------------------\n",
      "test.png\n",
      "Hn Wve\n",
      "\f\n",
      "-----------------------------------\n",
      "-----------------------------------\n",
      "gpt_poet.png\n",
      "Rr tues pasos\n",
      "\n",
      "fence\n",
      "Te eet ge eee cca\n",
      "Mee eet eee\n",
      "See CONN ate cee Me\n",
      "ee eC eee\n",
      "\n",
      "Through fields of emerald, the river's song,\n",
      "NOU a SC\n",
      "Beneath the canopy of trees, where dreams take flight,\n",
      "Echoes of nature, pure and bright.\n",
      "\n",
      "Tee te ea\n",
      "Nee a aCe oes acu\n",
      "Sea R Ee Wee ooe\n",
      "Bound by affection, in an endless embrace.\n",
      "\n",
      "It eg en aoe\n",
      "PT eRe Ue\n",
      "\n",
      "Seat ano Ree Rue s\n",
      "In poetry's embrace, we find ourselves whole.\n",
      "\f\n",
      "-----------------------------------\n",
      "-----------------------------------\n",
      "small_poet.png\n",
      "Seses ave wed .\n",
      "Sen 6S blae\n",
      "\n",
      "rok am dormg”\n",
      "y Yave MO Ok -\n",
      "\f\n",
      "-----------------------------------\n",
      "-----------------------------------\n",
      "big_poet.png\n",
      "Roses ave wed .\n",
      "Sen 6S blae\n",
      "\n",
      "Wok am dormg”\n",
      "y Yave MY Oe -\n",
      "\f\n",
      "-----------------------------------\n"
     ]
    }
   ],
   "source": [
    "for filename in os.listdir('./images/'):\n",
    "    print('-----------------------------------')\n",
    "    print(filename)\n",
    "    print(pytesseract.image_to_string(Image.open('./images/' + filename), config='--oem 1', lang='eng_lstm_only'))\n",
    "    print('-----------------------------------')"
   ]
  },
  {
   "cell_type": "code",
   "execution_count": 3,
   "metadata": {},
   "outputs": [
    {
     "name": "stdout",
     "output_type": "stream",
     "text": [
      "-----------------------------------\n",
      "test.png\n",
      "Haw\n",
      "\f\n",
      "-----------------------------------\n",
      "-----------------------------------\n",
      "gpt_poet.png\n",
      "milemxxnepoaryumse\n",
      "\n",
      "mum\n",
      "hvnispasnllwiligltseudsmmki.\n",
      "Mmmmmmmm\n",
      "Stamadornﬂlevdvelslﬁnahpeshydivine,\n",
      "munueamamhaygn\n",
      "\n",
      "mnmammmmm\n",
      "Ammymtmmmm.\n",
      "mewmmdmmmm\n",
      "Edmdrmmweambﬁgm.\n",
      "\n",
      "hﬂleheu’t'sdmnbenwherepasshlsmm\n",
      "mmmmamnmm.\n",
      "Twnsmlserﬂwineddnammzenfgmne,\n",
      "Bound byaﬁediminansnleasanhmm\n",
      "\n",
      "mumalmmmmmm\n",
      "AWmeofeﬂmﬁmls. swing tigh.\n",
      "Solduspaimwilhmrdsﬂemovsnfﬂlemul.\n",
      "|n poeny'sanhmmweﬁm mmm\n",
      "\f\n",
      "-----------------------------------\n",
      "-----------------------------------\n",
      "small_poet.png\n",
      "3054.5 aye \"ed'\n",
      "965 “L9 (bl/01,2.\n",
      "\n",
      "‘IDNwA‘ mm 3 dm‘mgq-\n",
      "3 Meuﬁz mo W.\n",
      "\f\n",
      "-----------------------------------\n",
      "-----------------------------------\n",
      "big_poet.png\n",
      "3054.5 est/Va \"ed'\n",
      "965 “L9 (bl/01,2.\n",
      "\n",
      "‘IDNwA‘ mm 3 dotmgq-\n",
      "3 Meub m0 W.\n",
      "\f\n",
      "-----------------------------------\n"
     ]
    }
   ],
   "source": [
    "for filename in os.listdir('./images/'):\n",
    "    print('-----------------------------------')\n",
    "    print(filename)\n",
    "    print(pytesseract.image_to_string(Image.open('./images/' + filename), config='--oem 0', lang='eng'))\n",
    "    print('-----------------------------------')"
   ]
  },
  {
   "cell_type": "code",
   "execution_count": 4,
   "metadata": {},
   "outputs": [
    {
     "name": "stdout",
     "output_type": "stream",
     "text": [
      "-----------------------------------\n",
      "test.png\n",
      "foe Lue\n",
      "\f\n",
      "-----------------------------------\n",
      "-----------------------------------\n",
      "gpt_poet.png\n",
      "RL CLE RET Ee\n",
      "\n",
      "ChatGPT\n",
      "In whispers of twilight, secrets untold,\n",
      "Where moonbeams dance on shadows bold.\n",
      "EEE REE SP ve IY\n",
      "[SEE NCR TL\n",
      "\n",
      "Through fields of emerald, the river's song,\n",
      "A melody ancient, timeless, strong.\n",
      "Beneath the canopy of trees, where dreams take flight,\n",
      "Echoes of nature, pure and bright.\n",
      "\n",
      "In the heart's chamber, where passions roam,\n",
      "Love's gentle touch, a soft-spoken poem.\n",
      "Two souls entwined, in a dance of grace,\n",
      "TEER BETTE PRE Er\n",
      "\n",
      "Across the canvas of life, each moment, each sigh,\n",
      "A symphony of emotions, soaring high.\n",
      "\n",
      "So let us paint with words, the colors of the soul,\n",
      "In poetry's embrace, we find ourselves whole.\n",
      "\f\n",
      "-----------------------------------\n",
      "-----------------------------------\n",
      "small_poet.png\n",
      "Noses ave ved .\n",
      "Sew ie bla\n",
      "\n",
      "Whaok am doing”\n",
      "Y ave TO dhe\n",
      "\f\n",
      "-----------------------------------\n",
      "-----------------------------------\n",
      "big_poet.png\n",
      "Noses ave ved .\n",
      "Sew ie bla\n",
      "\n",
      "Whaok am doing”\n",
      "Y ave TO Dre\n",
      "\f\n",
      "-----------------------------------\n"
     ]
    }
   ],
   "source": [
    "for filename in os.listdir('./images/'):\n",
    "    print('-----------------------------------')\n",
    "    print(filename)\n",
    "    print(pytesseract.image_to_string(Image.open('./images/' + filename), config='--oem 1', lang='eng'))\n",
    "    print('-----------------------------------')"
   ]
  },
  {
   "cell_type": "code",
   "execution_count": 7,
   "metadata": {},
   "outputs": [
    {
     "name": "stdout",
     "output_type": "stream",
     "text": [
      "Сегодня прекрасная погода, идеальное время для прогулки в парке.\n",
      "РЕТОЛеН Рае Сета СОЕД ее ЕЦО Пете те ао Тето т\n",
      "\n",
      "[ЕЛЕ Ни еуоер еаа оненеанеГЛеЕ то ча о ОаЕ еее лее неа ао рунет)\n",
      "ПОНОС\n",
      "\n",
      "Ре ен Еее и ООееДене Дед НЕТ ооДедеЕлЛя\n",
      "\n",
      "ее еНе ие ТОКеДеЙ Це оае АЕ Сео СОЦ еде ЕК Еее СИТО\n",
      "\f\n"
     ]
    }
   ],
   "source": [
    "print(pytesseract.image_to_string(Image.open('./russ_images/russ_example.png'), config='--oem 1', lang='rus'))\n"
   ]
  },
  {
   "cell_type": "code",
   "execution_count": 25,
   "metadata": {},
   "outputs": [],
   "source": [
    "from translate import Translator"
   ]
  },
  {
   "cell_type": "code",
   "execution_count": 31,
   "metadata": {},
   "outputs": [
    {
     "name": "stdout",
     "output_type": "stream",
     "text": [
      "bg\n",
      "[ru:0.8571398033716843, bg:0.14286019655790733]\n",
      "Translated sentence:Beautiful weather today, perfect time for a walk in the park.\n",
      "Retolen Rae Seta SOED her ECO Pete te ao Teto t\n",
      "\n",
      "[BARELY Ni euoyer eaa oneneaneGLeeE that about Oae eye nea ao runet)\n",
      "DIARRHEA\n",
      "\n",
      "Reen Eye and OOeeDene Grandfather NO OODEDEELL\n",
      "\n",
      "its eNe ee TOKeDEI It oae AE Seo SOC food EK Eee SIEVE\n"
     ]
    }
   ],
   "source": [
    "text = pytesseract.image_to_string(Image.open('./russ_images/russ_example.png'), config='--oem 1', lang='rus')\n",
    "# text = u\"pracuje ciężko, aby zaspokoić swoje potrzeby\"\n",
    "translator = Translator(from_lang=\"ru\",to_lang=\"en\")\n",
    "print(detect(text))\n",
    "print(detect_langs(text))\n",
    "translated = translator.translate(text)\n",
    "print(\"Translated sentence:\" +translated)\n"
   ]
  },
  {
   "cell_type": "code",
   "execution_count": null,
   "metadata": {},
   "outputs": [],
   "source": []
  }
 ],
 "metadata": {
  "kernelspec": {
   "display_name": ".venv",
   "language": "python",
   "name": "python3"
  },
  "language_info": {
   "codemirror_mode": {
    "name": "ipython",
    "version": 3
   },
   "file_extension": ".py",
   "mimetype": "text/x-python",
   "name": "python",
   "nbconvert_exporter": "python",
   "pygments_lexer": "ipython3",
   "version": "3.12.2"
  }
 },
 "nbformat": 4,
 "nbformat_minor": 2
}
